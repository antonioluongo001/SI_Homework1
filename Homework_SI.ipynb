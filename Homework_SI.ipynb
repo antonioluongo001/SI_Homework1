{
  "nbformat": 4,
  "nbformat_minor": 0,
  "metadata": {
    "colab": {
      "name": "Homework SI.ipynb",
      "provenance": [],
      "collapsed_sections": []
    },
    "kernelspec": {
      "name": "python3",
      "display_name": "Python 3"
    },
    "language_info": {
      "name": "python"
    }
  },
  "cells": [
    {
      "cell_type": "markdown",
      "metadata": {
        "id": "NqbSgpHyCIKx"
      },
      "source": [
        "### **Regressione Lineare**"
      ]
    },
    {
      "cell_type": "markdown",
      "metadata": {
        "id": "Jl8FAx-OzUuH"
      },
      "source": [
        "*Implementare l'algoritmo della regressione lineare con regolarizzazione in codice Python. \n",
        "E' possibile utilizzare le librerie NumPy e Pandas. \n",
        "Il codice deve essere una sorta di porting degli algoritmi visti a lezione.*"
      ]
    },
    {
      "cell_type": "markdown",
      "metadata": {
        "id": "PzijY1oy-Mmr"
      },
      "source": [
        "**Import**"
      ]
    },
    {
      "cell_type": "code",
      "metadata": {
        "id": "cghQbLK_1ySs"
      },
      "source": [
        "import numpy as np\n",
        "import pandas as pd\n",
        "import matplotlib.pyplot as plt"
      ],
      "execution_count": 1,
      "outputs": []
    },
    {
      "cell_type": "markdown",
      "metadata": {
        "id": "vy4EPk7e-WwZ"
      },
      "source": [
        "**Caricamento dati e preprocessing**"
      ]
    },
    {
      "cell_type": "markdown",
      "metadata": {
        "id": "ICDUYnq1Qn0l"
      },
      "source": [
        "yes = 1,\n",
        "no  = 0\n",
        "\n",
        "F   = 1,\n",
        "M   = 0\n",
        "\n",
        "GP  = 1,\n",
        "MS  = 0\n",
        "\n",
        "U   = 1,\n",
        "R   = 0\n",
        "\n",
        "LE3 = 1,\n",
        "GT3 = 0\n",
        "\n",
        "T   = 1,\n",
        "A   = 0\n",
        "\n",
        "JOB = (numeric: \"other\" = 0, \"at_home\" = 1,  \"teacher\" = 2, \"health\" = 3 care related, civil \"services\" = 4 (e.g. administrative or police)),\n",
        "\n",
        "REASON = (numeric: \"other\" = 0, close to \"home\" = 1, school \"reputation\" = 2, \"course\" preference = 3),\n",
        "\n",
        "GUARDIAN =  (nominal: \"other\" = 0,\"father\" = 1, \"mother\" = 2)"
      ]
    },
    {
      "cell_type": "code",
      "metadata": {
        "id": "EmtLEI8v-TYx"
      },
      "source": [
        "data = pd.read_csv(\"/content/student-mat.csv\", delimiter=';')\n",
        "\n",
        "data.school[data.school == 'GP'] = 1\n",
        "data.school[data.school == 'MS'] = 0\n",
        "\n",
        "data.sex[data.sex == 'F'] = 1\n",
        "data.sex[data.sex == 'M'] = 0\n",
        "\n",
        "data.address[data.address == 'U'] = 1\n",
        "data.address[data.address == 'R'] = 0\n",
        "\n",
        "data.famsize[data.famsize == 'LE3'] = 1\n",
        "data.famsize[data.famsize == 'GT3'] = 0\n",
        "\n",
        "data.Pstatus[data.Pstatus == 'T'] = 1\n",
        "data.Pstatus[data.Pstatus == 'A'] = 0\n",
        "\n",
        "data.Mjob[data.Mjob == 'other'] = 0\n",
        "data.Mjob[data.Mjob == 'at_home'] = 1\n",
        "data.Mjob[data.Mjob == 'teacher'] = 2\n",
        "data.Mjob[data.Mjob == 'health'] = 3\n",
        "data.Mjob[data.Mjob == 'services'] = 4\n",
        "\n",
        "data.Fjob[data.Fjob == 'other'] = 0\n",
        "data.Fjob[data.Fjob == 'at_home'] = 1\n",
        "data.Fjob[data.Fjob == 'teacher'] = 2\n",
        "data.Fjob[data.Fjob == 'health'] = 3\n",
        "data.Fjob[data.Fjob == 'services'] = 4\n",
        "\n",
        "data.reason[data.reason == 'other'] = 0\n",
        "data.reason[data.reason == 'home'] = 1\n",
        "data.reason[data.reason == 'reputation'] = 2\n",
        "data.reason[data.reason == 'course'] = 3\n",
        "\n",
        "data.guardian[data.guardian == 'other'] = 0\n",
        "data.guardian[data.guardian == 'father'] = 1\n",
        "data.guardian[data.guardian == 'mother'] = 2\n",
        "\n",
        "data.schoolsup[data.schoolsup == 'yes'] = 1\n",
        "data.schoolsup[data.schoolsup == 'no'] = 0\n",
        "\n",
        "data.famsup[data.famsup == 'yes'] = 1\n",
        "data.famsup[data.famsup == 'no'] = 0\n",
        "\n",
        "data.paid[data.paid == 'yes'] = 1\n",
        "data.paid[data.paid == 'no'] = 0\n",
        "\n",
        "data.activities[data.activities == 'yes'] = 1\n",
        "data.activities[data.activities == 'no'] = 0\n",
        "\n",
        "data.nursery[data.nursery == 'yes'] = 1\n",
        "data.nursery[data.nursery == 'no'] = 0\n",
        "\n",
        "data.higher[data.higher == 'yes'] = 1\n",
        "data.higher[data.higher == 'no'] = 0\n",
        "\n",
        "data.internet[data.internet == 'yes'] = 1\n",
        "data.internet[data.internet == 'no'] = 0\n",
        "\n",
        "data.romantic[data.romantic == 'yes'] = 1\n",
        "data.romantic[data.romantic == 'no'] = 0"
      ],
      "execution_count": null,
      "outputs": []
    },
    {
      "cell_type": "code",
      "metadata": {
        "colab": {
          "base_uri": "https://localhost:8080/",
          "height": 223
        },
        "id": "pWuuDmPq4xzI",
        "outputId": "fd9fb44d-03d8-4877-c679-99cf6f17f6d5"
      },
      "source": [
        "data.head()"
      ],
      "execution_count": 17,
      "outputs": [
        {
          "output_type": "execute_result",
          "data": {
            "text/html": [
              "<div>\n",
              "<style scoped>\n",
              "    .dataframe tbody tr th:only-of-type {\n",
              "        vertical-align: middle;\n",
              "    }\n",
              "\n",
              "    .dataframe tbody tr th {\n",
              "        vertical-align: top;\n",
              "    }\n",
              "\n",
              "    .dataframe thead th {\n",
              "        text-align: right;\n",
              "    }\n",
              "</style>\n",
              "<table border=\"1\" class=\"dataframe\">\n",
              "  <thead>\n",
              "    <tr style=\"text-align: right;\">\n",
              "      <th></th>\n",
              "      <th>school</th>\n",
              "      <th>sex</th>\n",
              "      <th>age</th>\n",
              "      <th>address</th>\n",
              "      <th>famsize</th>\n",
              "      <th>Pstatus</th>\n",
              "      <th>Medu</th>\n",
              "      <th>Fedu</th>\n",
              "      <th>Mjob</th>\n",
              "      <th>Fjob</th>\n",
              "      <th>reason</th>\n",
              "      <th>guardian</th>\n",
              "      <th>traveltime</th>\n",
              "      <th>studytime</th>\n",
              "      <th>failures</th>\n",
              "      <th>schoolsup</th>\n",
              "      <th>famsup</th>\n",
              "      <th>paid</th>\n",
              "      <th>activities</th>\n",
              "      <th>nursery</th>\n",
              "      <th>higher</th>\n",
              "      <th>internet</th>\n",
              "      <th>romantic</th>\n",
              "      <th>famrel</th>\n",
              "      <th>freetime</th>\n",
              "      <th>goout</th>\n",
              "      <th>Dalc</th>\n",
              "      <th>Walc</th>\n",
              "      <th>health</th>\n",
              "      <th>absences</th>\n",
              "      <th>G1</th>\n",
              "      <th>G2</th>\n",
              "      <th>G3</th>\n",
              "    </tr>\n",
              "  </thead>\n",
              "  <tbody>\n",
              "    <tr>\n",
              "      <th>0</th>\n",
              "      <td>1</td>\n",
              "      <td>1</td>\n",
              "      <td>18</td>\n",
              "      <td>1</td>\n",
              "      <td>0</td>\n",
              "      <td>0</td>\n",
              "      <td>4</td>\n",
              "      <td>4</td>\n",
              "      <td>1</td>\n",
              "      <td>2</td>\n",
              "      <td>3</td>\n",
              "      <td>2</td>\n",
              "      <td>2</td>\n",
              "      <td>2</td>\n",
              "      <td>0</td>\n",
              "      <td>1</td>\n",
              "      <td>0</td>\n",
              "      <td>0</td>\n",
              "      <td>0</td>\n",
              "      <td>1</td>\n",
              "      <td>1</td>\n",
              "      <td>0</td>\n",
              "      <td>0</td>\n",
              "      <td>4</td>\n",
              "      <td>3</td>\n",
              "      <td>4</td>\n",
              "      <td>1</td>\n",
              "      <td>1</td>\n",
              "      <td>3</td>\n",
              "      <td>6</td>\n",
              "      <td>5</td>\n",
              "      <td>6</td>\n",
              "      <td>6</td>\n",
              "    </tr>\n",
              "    <tr>\n",
              "      <th>1</th>\n",
              "      <td>1</td>\n",
              "      <td>1</td>\n",
              "      <td>17</td>\n",
              "      <td>1</td>\n",
              "      <td>0</td>\n",
              "      <td>1</td>\n",
              "      <td>1</td>\n",
              "      <td>1</td>\n",
              "      <td>1</td>\n",
              "      <td>0</td>\n",
              "      <td>3</td>\n",
              "      <td>1</td>\n",
              "      <td>1</td>\n",
              "      <td>2</td>\n",
              "      <td>0</td>\n",
              "      <td>0</td>\n",
              "      <td>1</td>\n",
              "      <td>0</td>\n",
              "      <td>0</td>\n",
              "      <td>0</td>\n",
              "      <td>1</td>\n",
              "      <td>1</td>\n",
              "      <td>0</td>\n",
              "      <td>5</td>\n",
              "      <td>3</td>\n",
              "      <td>3</td>\n",
              "      <td>1</td>\n",
              "      <td>1</td>\n",
              "      <td>3</td>\n",
              "      <td>4</td>\n",
              "      <td>5</td>\n",
              "      <td>5</td>\n",
              "      <td>6</td>\n",
              "    </tr>\n",
              "    <tr>\n",
              "      <th>2</th>\n",
              "      <td>1</td>\n",
              "      <td>1</td>\n",
              "      <td>15</td>\n",
              "      <td>1</td>\n",
              "      <td>1</td>\n",
              "      <td>1</td>\n",
              "      <td>1</td>\n",
              "      <td>1</td>\n",
              "      <td>1</td>\n",
              "      <td>0</td>\n",
              "      <td>0</td>\n",
              "      <td>2</td>\n",
              "      <td>1</td>\n",
              "      <td>2</td>\n",
              "      <td>3</td>\n",
              "      <td>1</td>\n",
              "      <td>0</td>\n",
              "      <td>1</td>\n",
              "      <td>0</td>\n",
              "      <td>1</td>\n",
              "      <td>1</td>\n",
              "      <td>1</td>\n",
              "      <td>0</td>\n",
              "      <td>4</td>\n",
              "      <td>3</td>\n",
              "      <td>2</td>\n",
              "      <td>2</td>\n",
              "      <td>3</td>\n",
              "      <td>3</td>\n",
              "      <td>10</td>\n",
              "      <td>7</td>\n",
              "      <td>8</td>\n",
              "      <td>10</td>\n",
              "    </tr>\n",
              "    <tr>\n",
              "      <th>3</th>\n",
              "      <td>1</td>\n",
              "      <td>1</td>\n",
              "      <td>15</td>\n",
              "      <td>1</td>\n",
              "      <td>0</td>\n",
              "      <td>1</td>\n",
              "      <td>4</td>\n",
              "      <td>2</td>\n",
              "      <td>3</td>\n",
              "      <td>4</td>\n",
              "      <td>1</td>\n",
              "      <td>2</td>\n",
              "      <td>1</td>\n",
              "      <td>3</td>\n",
              "      <td>0</td>\n",
              "      <td>0</td>\n",
              "      <td>1</td>\n",
              "      <td>1</td>\n",
              "      <td>1</td>\n",
              "      <td>1</td>\n",
              "      <td>1</td>\n",
              "      <td>1</td>\n",
              "      <td>1</td>\n",
              "      <td>3</td>\n",
              "      <td>2</td>\n",
              "      <td>2</td>\n",
              "      <td>1</td>\n",
              "      <td>1</td>\n",
              "      <td>5</td>\n",
              "      <td>2</td>\n",
              "      <td>15</td>\n",
              "      <td>14</td>\n",
              "      <td>15</td>\n",
              "    </tr>\n",
              "    <tr>\n",
              "      <th>4</th>\n",
              "      <td>1</td>\n",
              "      <td>1</td>\n",
              "      <td>16</td>\n",
              "      <td>1</td>\n",
              "      <td>0</td>\n",
              "      <td>1</td>\n",
              "      <td>3</td>\n",
              "      <td>3</td>\n",
              "      <td>0</td>\n",
              "      <td>0</td>\n",
              "      <td>1</td>\n",
              "      <td>1</td>\n",
              "      <td>1</td>\n",
              "      <td>2</td>\n",
              "      <td>0</td>\n",
              "      <td>0</td>\n",
              "      <td>1</td>\n",
              "      <td>1</td>\n",
              "      <td>0</td>\n",
              "      <td>1</td>\n",
              "      <td>1</td>\n",
              "      <td>0</td>\n",
              "      <td>0</td>\n",
              "      <td>4</td>\n",
              "      <td>3</td>\n",
              "      <td>2</td>\n",
              "      <td>1</td>\n",
              "      <td>2</td>\n",
              "      <td>5</td>\n",
              "      <td>4</td>\n",
              "      <td>6</td>\n",
              "      <td>10</td>\n",
              "      <td>10</td>\n",
              "    </tr>\n",
              "  </tbody>\n",
              "</table>\n",
              "</div>"
            ],
            "text/plain": [
              "  school sex  age address famsize Pstatus  ...  Walc  health absences  G1  G2  G3\n",
              "0      1   1   18       1       0       0  ...     1       3        6   5   6   6\n",
              "1      1   1   17       1       0       1  ...     1       3        4   5   5   6\n",
              "2      1   1   15       1       1       1  ...     3       3       10   7   8  10\n",
              "3      1   1   15       1       0       1  ...     1       5        2  15  14  15\n",
              "4      1   1   16       1       0       1  ...     2       5        4   6  10  10\n",
              "\n",
              "[5 rows x 33 columns]"
            ]
          },
          "metadata": {},
          "execution_count": 17
        }
      ]
    },
    {
      "cell_type": "markdown",
      "metadata": {
        "id": "bO7bdypRAa9W"
      },
      "source": [
        "**Gradient Descent**"
      ]
    },
    {
      "cell_type": "code",
      "metadata": {
        "id": "vSQyJ-kN_LGA"
      },
      "source": [
        "def gradientDescent(X, y, theta, alpha, num_iterations, lambda_value):\n",
        "  m = len(y) # numero di esempi di training\n",
        "  J_history = []  # ripeti fino alla convergenza\n",
        "  for iteration in range(num_iterations):\n",
        "    h = np.matmul(X, theta) - y\n",
        "    theta = theta - alpha / m * np.matmul(X.transpose(), h)\n",
        "    # Salva il costo J per ogni iterazione\n",
        "    J_history.append(costFunction(X, y, theta, lambda_value))  \n",
        "  return theta, J_history"
      ],
      "execution_count": 249,
      "outputs": []
    },
    {
      "cell_type": "markdown",
      "metadata": {
        "id": "GupriVtVAgSU"
      },
      "source": [
        "**Cost Function**"
      ]
    },
    {
      "cell_type": "code",
      "metadata": {
        "id": "juJeDDeN-iJz"
      },
      "source": [
        "def costFunction(X, y, theta, lambda_value):\n",
        "  m = len(y) # numero di esempi di training\n",
        "  diff = np.matmul(X, theta) - y\n",
        "  reg_term = (lambda_value / 2 * m) * np.sum((np.square(theta)))\n",
        "  J = 1 / (2 * m) * np.matmul(diff, diff) + reg_term\n",
        "  return J"
      ],
      "execution_count": 248,
      "outputs": []
    },
    {
      "cell_type": "markdown",
      "metadata": {
        "id": "mKC878JRCZk9"
      },
      "source": [
        "**Regressione Lineare**"
      ]
    },
    {
      "cell_type": "code",
      "metadata": {
        "colab": {
          "base_uri": "https://localhost:8080/",
          "height": 851
        },
        "id": "fwrbeSiU7S1j",
        "outputId": "cb0cae44-c918-4a1f-abd5-066ddce61094"
      },
      "source": [
        "df = data.copy()\n",
        "#print(df.head())\n",
        "Y = df['G3']\n",
        "df = df.drop(['G3'], axis = 1)\n",
        "#print(df.head())\n",
        "\n",
        "X = df.to_numpy()\n",
        "#print(Y)\n",
        "y = Y.to_numpy().transpose()\n",
        "#print(y)\n",
        "m = X.shape[0]\n",
        "n = X.shape[1]\n",
        "#print(m, n)\n",
        "\n",
        "mu = X.mean(0) \n",
        "#print(type(X))\n",
        "#print(type(mu))\n",
        "sigma = X.max(0) - X.min(0)\n",
        "#print(type(sigma))\n",
        "diff = np.subtract(X, mu)\n",
        "xn = diff / sigma\n",
        "#print(xn.shape)\n",
        "#print(type(xn))\n",
        "\n",
        "X0 = np.hstack((np.ones((m, 1)), xn))\n",
        "#print(X0.shape)\n",
        "#print(type(X0))\n",
        "\n",
        "alpha = 0.01\n",
        "iterations = 500\n",
        "theta_init = np.zeros((n+1))\n",
        "\n",
        "#J = costFunction(X0, y, theta_init)\n",
        "#print(J)\n",
        "\n",
        "#Valori per lambda = [0.0001, 0.001, 0.01, 0.1, 1, 10]\n",
        "\n",
        "# Lambda = 0.0001\n",
        "theta, J_history = gradientDescent(X0, y, theta_init, alpha, iterations, 0.0001)\n",
        "#print('Best theta computed from gradient descent: ')\n",
        "#print(f' {theta} ')\n",
        "\n",
        "plt.plot(np.arange(iterations), J_history, '-g', LineWidth=2)\n",
        "plt.title('Convergence Graph for Lambda = 0.0001')\n",
        "plt.xlabel('Number of iterations')\n",
        "plt.ylabel('Cost J')\n",
        "plt.show()\n",
        "\n",
        "# Lambda = 0.1\n",
        "theta, J_history = gradientDescent(X0, y, theta_init, alpha, iterations, 0.1)\n",
        "#print('Best theta computed from gradient descent: ')\n",
        "#print(f' {theta} ')\n",
        "\n",
        "plt.plot(np.arange(iterations), J_history, '-g', LineWidth=2)\n",
        "plt.title('Convergence Graph for Lambda = 0.1')\n",
        "plt.xlabel('Number of iterations')\n",
        "plt.ylabel('Cost J')\n",
        "plt.show()\n",
        "\n",
        "# Lambda = 10\n",
        "theta, J_history = gradientDescent(X0, y, theta_init, alpha, iterations, 10)\n",
        "#print('Best theta computed from gradient descent: ')\n",
        "#print(f' {theta} ')\n",
        "\n",
        "plt.plot(np.arange(iterations), J_history, '-g', LineWidth=2)\n",
        "plt.title('Convergence Graph for Lambda = 10')\n",
        "plt.xlabel('Number of iterations')\n",
        "plt.ylabel('Cost J')\n",
        "plt.show()\n"
      ],
      "execution_count": 257,
      "outputs": [
        {
          "output_type": "display_data",
          "data": {
            "image/png": "[encoded data removed]",
            "text/plain": [
              "<Figure size 432x288 with 1 Axes>"
            ]
          },
          "metadata": {
            "needs_background": "light"
          }
        },
        {
          "output_type": "display_data",
          "data": {
            "image/png": "[encoded data removed]",
            "text/plain": [
              "<Figure size 432x288 with 1 Axes>"
            ]
          },
          "metadata": {
            "needs_background": "light"
          }
        },
        {
          "output_type": "display_data",
          "data": {
            "image/png": "[encoded data removed]",
            "text/plain": [
              "<Figure size 432x288 with 1 Axes>"
            ]
          },
          "metadata": {
            "needs_background": "light"
          }
        }
      ]
    },
    {
      "cell_type": "code",
      "metadata": {
        "id": "mXHmHak-Kzb8"
      },
      "source": [
        "different_alpha = 10\n",
        "alpha_possible = np.zeros((different_alpha, 1))\n",
        "alpha_possible[0] = 0.001\n",
        "#print(alpha_possible)\n",
        "for i in range(different_alpha):\n",
        "   alpha_possible[i] = alpha_possible[i-1]*3\n",
        "cost_function_alpha = np.zeros((iterations, different_alpha))\n",
        "#print(cost_function_alpha)\n",
        "convergenceTest = np.zeros((different_alpha,1))\n",
        "#print(convergenceTest)\n",
        "for i in range(different_alpha):\n",
        "   theta_inner = np.zeros((n,1))\n",
        "   #print(theta_inner.shape)\n",
        "   #print(y.shape)\n",
        "   #print(X0.shape)\n",
        "   alpha_val = alpha_possible[i]\n",
        "   #theta_inner, cost_function_alpha[:,i] = gradientDescent(X,y,theta_inner,alpha_val,iterations)\n",
        "   cost_val = cost_function_alpha[:,i]\n",
        "   convergenceTest[i] = testConvergence(cost_val)\n",
        "convergenceTest"
      ],
      "execution_count": null,
      "outputs": []
    },
    {
      "cell_type": "code",
      "metadata": {
        "id": "fGi4bhx-JO8_"
      },
      "source": [
        "def testConvergence(values):\n",
        "  dim = max(values.shape)\n",
        "  for i in range(2, dim):\n",
        "    if (values[i] >= values[i-1]):\n",
        "      test = 0\n",
        "    else:\n",
        "      test = 1\n",
        "  return test"
      ],
      "execution_count": 126,
      "outputs": []
    }
  ]
}